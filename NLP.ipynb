{
 "cells": [
  {
   "cell_type": "code",
   "execution_count": 45,
   "id": "a176ffc1",
   "metadata": {},
   "outputs": [],
   "source": [
    "import os\n",
    "import pandas as pd\n",
    "import numpy as np \n",
    "from sklearn.feature_extraction.text import CountVectorizer\n",
    "from sklearn.feature_extraction.text import TfidfTransformer\n",
    "from sklearn.feature_extraction.text import TfidfVectorizer\n",
    "import nltk\n",
    "from nltk.stem import WordNetLemmatizer\n",
    "import re\n",
    "import string\n",
    "from sklearn.naive_bayes import MultinomialNB\n",
    "from sklearn import metrics\n",
    "from nltk.stem import PorterStemmer\n",
    "from sklearn import model_selection, preprocessing, linear_model, naive_bayes, metrics, svm\n",
    "from sklearn.model_selection import train_test_split\n",
    "from sklearn.metrics import accuracy_score\n",
    "import pickle\n",
    "from sklearn.tree import DecisionTreeClassifier\n",
    "from sklearn.neighbors import KNeighborsClassifier\n",
    "import matplotlib.pyplot as plt\n",
    "\n",
    "# Define the folder path\n",
    "folder_path = r\"C:\\Users\\toqae\\Downloads\\review_polarity\\txt_sentoken\\pos\"\n",
    "folder_path2 = r\"C:\\Users\\toqae\\Downloads\\review_polarity\\txt_sentoken\\neg\"\n",
    "\n",
    "# Define an empty list to store the file contents\n",
    "file_contents = []\n",
    "file_value = []\n",
    "\n",
    "# Loop through all files in the folder\n",
    "for filename in os.listdir(folder_path):\n",
    "    if filename.endswith('.txt'):\n",
    "        # Open the file and read its content\n",
    "        with open(os.path.join(folder_path, filename), 'r') as file:\n",
    "            content = file.read()\n",
    "            # Append the content to the list\n",
    "            file_contents.append(content)\n",
    "            file_value.append(1)\n",
    "            \n",
    "            \n",
    "for filename in os.listdir(folder_path2):\n",
    "    if filename.endswith('.txt'):\n",
    "        # Open the file and read its content\n",
    "        with open(os.path.join(folder_path2, filename), 'r') as file:\n",
    "            content = file.read()\n",
    "            # Append the content to the list\n",
    "            file_contents.append(content)\n",
    "            file_value.append(0)            \n",
    "\n",
    "# Create a data frame with the file contents\n",
    "df = pd.DataFrame({'Document': file_contents, 'review': file_value})\n"
   ]
  },
  {
   "cell_type": "code",
   "execution_count": 46,
   "id": "a2b03879",
   "metadata": {},
   "outputs": [
    {
     "name": "stdout",
     "output_type": "stream",
     "text": [
      "                                            Document  review\n",
      "0  films adapted from comic books have had plenty...       1\n",
      "1  every now and then a movie comes along from a ...       1\n",
      "2  you've got mail works alot better than it dese...       1\n",
      "3   \" jaws \" is a rare film that grabs your atten...       1\n",
      "4  moviemaking is a lot like being the general ma...       1\n"
     ]
    }
   ],
   "source": [
    "print(df.head())"
   ]
  },
  {
   "cell_type": "code",
   "execution_count": 47,
   "id": "c2bf01cd",
   "metadata": {},
   "outputs": [
    {
     "name": "stdout",
     "output_type": "stream",
     "text": [
      "                                               Document  review\n",
      "1995  if anything , \" stigmata \" should be taken as ...       0\n",
      "1996  john boorman's \" zardoz \" is a goofy cinematic...       0\n",
      "1997  the kids in the hall are an acquired taste . \\...       0\n",
      "1998  there was a time when john carpenter was a gre...       0\n",
      "1999  two party guys bob their heads to haddaway's d...       0\n"
     ]
    }
   ],
   "source": [
    "print(df.tail())"
   ]
  },
  {
   "cell_type": "code",
   "execution_count": 48,
   "id": "0ef54bbb",
   "metadata": {},
   "outputs": [],
   "source": [
    "stopwords = nltk.corpus.stopwords.words('english')\n",
    "lemmatizer = WordNetLemmatizer()\n",
    "def preprocessing(x):\n",
    "   newx=[]\n",
    "##preprocessing\n",
    "   for i in range(0, len(x)):\n",
    "     review = re.sub('[^a-zA-Z]', ' ',x[i])\n",
    "     review = review.lower()\n",
    "     review = review.split()\n",
    "     stemmer = PorterStemmer()\n",
    "     review = [stemmer.stem(word) for word in review if not word in set(stopwords)]\n",
    "     #review = ' '.join(review)\n",
    "     review = [lemmatizer.lemmatize(word) for word in review]\n",
    "     review = ' '.join(review)\n",
    "     newx.append(review)\n",
    "   return newx"
   ]
  },
  {
   "cell_type": "code",
   "execution_count": 49,
   "id": "8d2f551d",
   "metadata": {},
   "outputs": [],
   "source": [
    "X=df['Document']\n",
    "Xnew=preprocessing(X)"
   ]
  },
  {
   "cell_type": "code",
   "execution_count": 50,
   "id": "f063c114",
   "metadata": {},
   "outputs": [],
   "source": [
    "Y=df['review']\n",
    "x_train, x_test, y_train, y_test = model_selection.train_test_split(Xnew,Y,test_size=0.20,random_state=0)"
   ]
  },
  {
   "cell_type": "code",
   "execution_count": 51,
   "id": "d6c24121",
   "metadata": {},
   "outputs": [
    {
     "data": {
      "text/plain": [
       "array([0.01405618, 0.01784678, 0.01501715, ..., 0.02675568, 0.01990129,\n",
       "       0.02923474])"
      ]
     },
     "execution_count": 51,
     "metadata": {},
     "output_type": "execute_result"
    }
   ],
   "source": [
    "tf_idf = TfidfVectorizer()\n",
    "tf_idf.fit(Xnew)\n",
    "#applying tf idf to training data\n",
    "X_train_tf = tf_idf.fit_transform(x_train)\n",
    "\n",
    "#transforming test data into tf-idf matrix\n",
    "X_test_tf = tf_idf.transform(x_test)\n",
    "\n",
    "X_train_tf.data"
   ]
  },
  {
   "cell_type": "code",
   "execution_count": 52,
   "id": "6b6e07bf",
   "metadata": {},
   "outputs": [
    {
     "name": "stdout",
     "output_type": "stream",
     "text": [
      "0.8075\n"
     ]
    }
   ],
   "source": [
    "#Naive Bayes Classifier  \n",
    "classifier=naive_bayes.MultinomialNB(alpha=0.2)\n",
    "classifier.fit(X_train_tf, y_train)\n",
    "accuracy_nb = accuracy_score(y_test, classifier.predict(X_test_tf))\n",
    "print(accuracy_nb)"
   ]
  },
  {
   "cell_type": "code",
   "execution_count": 53,
   "id": "cd9ec144",
   "metadata": {},
   "outputs": [
    {
     "name": "stdout",
     "output_type": "stream",
     "text": [
      "0.8375\n"
     ]
    }
   ],
   "source": [
    "#Logistic Regression Classifier\n",
    "classifier=linear_model.LogisticRegression()\n",
    "classifier.fit(X_train_tf, y_train)\n",
    "accuracy_lr = accuracy_score(y_test, classifier.predict(X_test_tf))\n",
    "# Assuming your trained model is stored in a variable called \"model\"\n",
    "with open('model.pickle', 'wb') as file:\n",
    "    pickle.dump(classifier, file)\n",
    "\n",
    "print(accuracy_lr)"
   ]
  },
  {
   "cell_type": "code",
   "execution_count": 54,
   "id": "2fab9063",
   "metadata": {},
   "outputs": [
    {
     "name": "stdout",
     "output_type": "stream",
     "text": [
      "0.8275\n"
     ]
    }
   ],
   "source": [
    "#SVM Classifier\n",
    "classifier=svm.SVC()\n",
    "classifier.fit(X_train_tf, y_train)\n",
    "accuracy_svm = accuracy_score(y_test, classifier.predict(X_test_tf))\n",
    "print(accuracy_svm)"
   ]
  },
  {
   "cell_type": "code",
   "execution_count": 55,
   "id": "e1c4853d",
   "metadata": {},
   "outputs": [
    {
     "name": "stdout",
     "output_type": "stream",
     "text": [
      "0.63\n"
     ]
    }
   ],
   "source": [
    "#Decision Tree Classifier\n",
    "classifier=DecisionTreeClassifier()\n",
    "classifier.fit(X_train_tf, y_train)\n",
    "accuracy_dt = accuracy_score(y_test, classifier.predict(X_test_tf))\n",
    "print(accuracy_dt)"
   ]
  },
  {
   "cell_type": "code",
   "execution_count": 56,
   "id": "cca13725",
   "metadata": {},
   "outputs": [
    {
     "name": "stdout",
     "output_type": "stream",
     "text": [
      "0.6675\n"
     ]
    },
    {
     "name": "stderr",
     "output_type": "stream",
     "text": [
      "C:\\Users\\toqae\\anaconda3\\lib\\site-packages\\sklearn\\neighbors\\_classification.py:228: FutureWarning: Unlike other reduction functions (e.g. `skew`, `kurtosis`), the default behavior of `mode` typically preserves the axis it acts along. In SciPy 1.11.0, this behavior will change: the default value of `keepdims` will become False, the `axis` over which the statistic is taken will be eliminated, and the value None will no longer be accepted. Set `keepdims` to True or False to avoid this warning.\n",
      "  mode, _ = stats.mode(_y[neigh_ind, k], axis=1)\n"
     ]
    }
   ],
   "source": [
    "#KNN Classifier\n",
    "classifier=KNeighborsClassifier()\n",
    "classifier.fit(X_train_tf, y_train)\n",
    "accuracy_knn = accuracy_score(y_test, classifier.predict(X_test_tf))\n",
    "print(accuracy_knn)"
   ]
  },
  {
   "cell_type": "code",
   "execution_count": 57,
   "id": "871a06a0",
   "metadata": {
    "scrolled": true
   },
   "outputs": [
    {
     "data": {
      "text/plain": [
       "'\\'\\'\\nwith open(\\'file.txt\\', \\'r\\') as file:\\n    content = file.read()\\n\\n\\ndata_proprocessed=preprocessing(content)\\n\\n\\nwith open(\\'model.pickle\\', \\'rb\\') as file:\\n    loaded_model = pickle.load(file)\\n\\npredictions = loaded_model.predict(data_proprocessed)\\n\\n\\nif predictions==1:\\n    print(\"Good Review\")\\nelif predictions==0:\\n    print(\"Bad Review\")\\n'"
      ]
     },
     "execution_count": 57,
     "metadata": {},
     "output_type": "execute_result"
    }
   ],
   "source": [
    "#for new data \n",
    "'''''\n",
    "with open('file.txt', 'r') as file:\n",
    "    content = file.read()\n",
    "\n",
    "\n",
    "data_proprocessed=preprocessing(content)\n",
    "\n",
    "\n",
    "with open('model.pickle', 'rb') as file:\n",
    "    loaded_model = pickle.load(file)\n",
    "\n",
    "predictions = loaded_model.predict(data_proprocessed)\n",
    "\n",
    "\n",
    "if predictions==1:\n",
    "    print(\"Good Review\")\n",
    "elif predictions==0:\n",
    "    print(\"Bad Review\")\n",
    "'''\n"
   ]
  },
  {
   "cell_type": "code",
   "execution_count": 58,
   "id": "66f09a71",
   "metadata": {},
   "outputs": [
    {
     "data": {
      "image/png": "[encoded data removed]",
      "text/plain": [
       "<Figure size 640x480 with 1 Axes>"
      ]
     },
     "metadata": {},
     "output_type": "display_data"
    }
   ],
   "source": [
    "models = ['Naive Bayes', 'Logistic Regression', 'SVM', 'Decision Tree', 'KNN']\n",
    "accuracy_scores = [accuracy_nb, accuracy_lr, accuracy_svm, accuracy_dt, accuracy_knn]\n",
    "\n",
    "plt.bar(models, accuracy_scores)\n",
    "plt.title('Model Accuracy on Test Set')\n",
    "plt.xlabel('Model')\n",
    "plt.ylabel('Accuracy')\n",
    "plt.ylim([0, 1])\n",
    "plt.show()"
   ]
  }
 ],
 "metadata": {
  "kernelspec": {
   "display_name": "Python 3 (ipykernel)",
   "language": "python",
   "name": "python3"
  },
  "language_info": {
   "codemirror_mode": {
    "name": "ipython",
    "version": 3
   },
   "file_extension": ".py",
   "mimetype": "text/x-python",
   "name": "python",
   "nbconvert_exporter": "python",
   "pygments_lexer": "ipython3",
   "version": "3.9.13"
  }
 },
 "nbformat": 4,
 "nbformat_minor": 5
}
